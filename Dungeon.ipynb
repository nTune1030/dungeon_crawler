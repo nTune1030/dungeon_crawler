{
 "cells": [
  {
   "cell_type": "code",
   "execution_count": 7,
   "id": "fe9257b7-0fe9-43c0-96d3-e421a37d6ce0",
   "metadata": {
    "tags": []
   },
   "outputs": [],
   "source": [
    "import random\n",
    "\n",
    "class Adventurer:\n",
    "    \"\"\"This class represents the user in the game.\n",
    "    \n",
    "    The Adventurer moves through the Cave system going Room to Room trying to slay Monsters.\n",
    "    \n",
    "    Attributes:\n",
    "        name: Display name of the character.\n",
    "        strength: Strength, on a scale of 1-18.\n",
    "        constitution: Constitution, on a scale of 1-18.\n",
    "        hit_points: An integer, when <=0 the character is dead.\n",
    "        bag: Holds an unsorted list of Item objects the character has.\n",
    "    \"\"\"\n",
    "    \n",
    "    def __init__(self, name: str) -> None:\n",
    "        \"\"\"Initializes the Adventurer with a name and some random stats.\n",
    "        \n",
    "        Args:\n",
    "            name: The name of the Adventurer.\n",
    "        \"\"\"\n",
    "        self.name: str = name\n",
    "        self.strength: int = random.randint(3, 18)\n",
    "        self.constitution: int = random.randint(3, 18)\n",
    "        self.hit_points: int = self.constitution + random.randint(1, 8)\n",
    "        self.bag: list[Item] = [Item(\"Dagger\", 1, 4)]"
   ]
  },
  {
   "cell_type": "code",
   "execution_count": 3,
   "id": "a32178a2-9bcd-4310-a713-2b598e6d86ed",
   "metadata": {
    "tags": []
   },
   "outputs": [],
   "source": [
    "class Item:\n",
    "    \"\"\" An item which can be held by an Adventurer.\n",
    "    \n",
    "    Items are weapons in this game, and may have a range of possible damages.\n",
    "    \n",
    "    Attributes:\n",
    "        name: The display name of the item.\n",
    "        min_damage: The minimum damage an item can inflict, cannot be negative.\n",
    "        max_damage: The maximum damage an item can inflict, cannot be negative.\n",
    "    \"\"\"\n",
    "    def __init__(self, name: str, min_damage: int, max_damage: int) -> None:\n",
    "        \"\"\"Initializes the Item and it's minimum and maximum damage.\n",
    "        \n",
    "        Args:\n",
    "            name: The name of the Item.\n",
    "        \"\"\"\n",
    "        if name != None:\n",
    "            self.name: str = name\n",
    "        else:\n",
    "            self.name: str = \"Unknown Item\"\n",
    "        \n",
    "        self.min_damage: int = min_damage\n",
    "        self.max_damage: int = max_damage"
   ]
  },
  {
   "cell_type": "code",
   "execution_count": 4,
   "id": "93eec60e-506a-40d9-a749-55bc143aee46",
   "metadata": {
    "tags": []
   },
   "outputs": [],
   "source": [
    "class Monster:\n",
    "    \"\"\"A Monster which the Adventurer may encounter in a Room.\n",
    "    \n",
    "    Attributes:\n",
    "        name: The display name of the monster.\n",
    "        min_damage: An integer, the minimum damage the monster can inflict.\n",
    "        max_damage: An integer, the maximum damage the monster can inflict.\n",
    "        hit_points: An integer, when <= 0 the Monster is dead.m,\n",
    "    \"\"\"\n",
    "    \n",
    "    def __init__(self, name: str, min_damage: int, max_damage: int) -> None:\n",
    "        \"\"\"Initializes the Monster with a name and some random stats.\n",
    "        \n",
    "        Args:\n",
    "            name: The name of the Monster.\n",
    "        \"\"\"\n",
    "        self.name: str = name\n",
    "        self.min_damage: int = min_damage\n",
    "        self.max_damage: int = max_damage\n",
    "        self.hit_points: int = self.constitution + random.randint(1, 8)\n"
   ]
  },
  {
   "cell_type": "code",
   "execution_count": 5,
   "id": "bca9ed46-3f57-403e-be53-bac642dfd54f",
   "metadata": {
    "tags": []
   },
   "outputs": [],
   "source": [
    "class Room:\n",
    "    \"\"\"A Room in the Cave system.\n",
    "    \n",
    "    The Room may contain a Monster, and may have connections to other Rooms.\n",
    "    \n",
    "    Attributes:\n",
    "        treasure: An Item in the room, or None if no item is present.\n",
    "        description: A description of the room.\n",
    "        monster: The Monster in the room, or None if no monster is present.\n",
    "        exits: A dictionary mapping direction strings to other Room objects.\n",
    "    \"\"\"\n",
    "    \n",
    "    def __init__(self, name: str, description: str) -> None:\n",
    "        \"\"\"Initializes the Room with a name and description.\n",
    "        \n",
    "        Args:\n",
    "            name: The name of the Room.\n",
    "            description: A description of the Room.\n",
    "        \"\"\"\n",
    "        self.name: str = name\n",
    "        self.treasure: Item | None = None\n",
    "        self.description: str = description\n",
    "        self.monster: Monster | None = None\n",
    "        self.exits: dict[str, Room] = {}"
   ]
  },
  {
   "cell_type": "code",
   "execution_count": 6,
   "id": "8c15e082-343f-46dc-929c-3456ab5ca259",
   "metadata": {},
   "outputs": [],
   "source": [
    "class Cave:\n",
    "    \"\"\"The Cave system which contains Rooms.\n",
    "    \n",
    "    Attributes:\n",
    "        entrance: The Room which is the entrance to the Cave.\n",
    "    \"\"\"\n",
    "    \n",
    "    def __init__(self, entrance: Room) -> None:\n",
    "        \"\"\"Initializes the Cave with an entrance Room.\n",
    "        \n",
    "        Args:\n",
    "            entrance: The Room which is the entrance to the Cave.\n",
    "        \"\"\"\n",
    "        self.entrance: Room = entrance"
   ]
  },
  {
   "cell_type": "code",
   "execution_count": null,
   "id": "762cd071-68f3-49aa-b09a-8ed9f915f4b9",
   "metadata": {},
   "outputs": [],
   "source": []
  }
 ],
 "metadata": {
  "kernelspec": {
   "display_name": "Python 3 (ipykernel)",
   "language": "python",
   "name": "python3"
  },
  "language_info": {
   "codemirror_mode": {
    "name": "ipython",
    "version": 3
   },
   "file_extension": ".py",
   "mimetype": "text/x-python",
   "name": "python",
   "nbconvert_exporter": "python",
   "pygments_lexer": "ipython3",
   "version": "3.13.5"
  }
 },
 "nbformat": 4,
 "nbformat_minor": 5
}
